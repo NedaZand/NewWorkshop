{
  "nbformat": 4,
  "nbformat_minor": 0,
  "metadata": {
    "colab": {
      "name": "Review.ipynb",
      "provenance": [],
      "authorship_tag": "ABX9TyPby0oZCEv7MA3X96I3yB/2",
      "include_colab_link": true
    },
    "kernelspec": {
      "name": "python3",
      "display_name": "Python 3"
    },
    "language_info": {
      "name": "python"
    }
  },
  "cells": [
    {
      "cell_type": "markdown",
      "metadata": {
        "id": "view-in-github",
        "colab_type": "text"
      },
      "source": [
        "<a href=\"https://colab.research.google.com/github/NedaZand/NewWorkshop/blob/main/Review.ipynb\" target=\"_parent\"><img src=\"https://colab.research.google.com/assets/colab-badge.svg\" alt=\"Open In Colab\"/></a>"
      ]
    },
    {
      "cell_type": "code",
      "metadata": {
        "id": "lreljsuYManZ"
      },
      "source": [
        "#NumPy\n"
      ],
      "execution_count": null,
      "outputs": []
    },
    {
      "cell_type": "code",
      "metadata": {
        "id": "4Q546OHBMpAh"
      },
      "source": [
        "#create an array\n"
      ],
      "execution_count": null,
      "outputs": []
    },
    {
      "cell_type": "code",
      "metadata": {
        "id": "kbUOL_xpM7Fq"
      },
      "source": [
        "#create using arange()\n"
      ],
      "execution_count": null,
      "outputs": []
    },
    {
      "cell_type": "code",
      "metadata": {
        "id": "Hi42AGNhM_-8"
      },
      "source": [
        "# Assigning Values\n"
      ],
      "execution_count": null,
      "outputs": []
    },
    {
      "cell_type": "code",
      "metadata": {
        "id": "y32XVRsHNIPo"
      },
      "source": [
        "# Slicing  #last column\n"
      ],
      "execution_count": null,
      "outputs": []
    },
    {
      "cell_type": "code",
      "metadata": {
        "id": "5O-NvIbfNO65"
      },
      "source": [
        "# size, ndim, shape, min(), max(), mean()\n"
      ],
      "execution_count": null,
      "outputs": []
    },
    {
      "cell_type": "code",
      "metadata": {
        "id": "oLAAAJGYNaiP"
      },
      "source": [
        "# numpy array operation a+b, a*2, a*b \n"
      ],
      "execution_count": null,
      "outputs": []
    },
    {
      "cell_type": "code",
      "metadata": {
        "id": "ljAZmP_aNeg6"
      },
      "source": [
        "# linspace(first, last, step) , shuffle(a)\n",
        "import random\n"
      ],
      "execution_count": null,
      "outputs": []
    },
    {
      "cell_type": "code",
      "metadata": {
        "id": "SKv0l5eCNoFk"
      },
      "source": [
        "# 2D array, ndim, shape, size, arange.reshape\n",
        "a = np.array([[1,2,3],[2,1,2]])\n",
        "a = np.arange(0,12).reshape(3,4)\n",
        "print(a)\n",
        "print(a.ndim)\n",
        "print(a.shape)"
      ],
      "execution_count": null,
      "outputs": []
    },
    {
      "cell_type": "code",
      "metadata": {
        "id": "dfGyzdQbN1Lp"
      },
      "source": [
        "#Basic operation, a+b, a*b, a*2, np.dot(a,b)\n",
        "a = np.array([[1,2],[2,3]])\n",
        "b = np.array([[1,2],[1,0]])\n",
        "print(np.dot(a,b))"
      ],
      "execution_count": null,
      "outputs": []
    },
    {
      "cell_type": "code",
      "metadata": {
        "id": "mwpTxZpmN_t2"
      },
      "source": [
        "#Slicing\n"
      ],
      "execution_count": null,
      "outputs": []
    },
    {
      "cell_type": "code",
      "metadata": {
        "id": "NXJ3cGTcRHOn"
      },
      "source": [
        "#array manipulation\n",
        "#Repeat(), #delete(), #insert() #unique()\n"
      ],
      "execution_count": null,
      "outputs": []
    },
    {
      "cell_type": "markdown",
      "metadata": {
        "id": "1bsE2Udrgzpg"
      },
      "source": [
        "![numpy-manipulation-repeat-function-image-2.png](data:image/png;base64,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)"
      ]
    },
    {
      "cell_type": "code",
      "metadata": {
        "id": "CsR9DYz_dYXs"
      },
      "source": [
        "x = np.array([[1,2],[4,5]])\n",
        "a = np.repeat(x, 2, axis=0)\n",
        "print(a)"
      ],
      "execution_count": null,
      "outputs": []
    },
    {
      "cell_type": "code",
      "metadata": {
        "id": "Tghe8UMyjMPK"
      },
      "source": [
        "\n",
        "#delete items\n",
        "arr = np.array([[1,2,3,4], [5,6,7,8], [9,10,11,12]])\n",
        "np.delete(arr, 1, 0)"
      ],
      "execution_count": null,
      "outputs": []
    },
    {
      "cell_type": "code",
      "metadata": {
        "id": "tcJoYEzQjYFn"
      },
      "source": [
        "print(np.unique([1, 1, 2, 2, 3, 3]))"
      ],
      "execution_count": null,
      "outputs": []
    },
    {
      "cell_type": "code",
      "metadata": {
        "id": "M1TWAdO8rPY_"
      },
      "source": [
        "#Random\n",
        "from numpy import random\n",
        "x = random.rand(5)\n",
        "print(x)"
      ],
      "execution_count": null,
      "outputs": []
    },
    {
      "cell_type": "code",
      "metadata": {
        "id": "OCtqvm4zs0Y2"
      },
      "source": [
        "npArray = random.randint(low=0, high=10, size=(15,))\n",
        "print(npArray)"
      ],
      "execution_count": null,
      "outputs": []
    },
    {
      "cell_type": "code",
      "metadata": {
        "id": "4IBRuHmwy41H"
      },
      "source": [
        "#Conditional Selection\n",
        "npArray = np.arange(1,11)\n",
        "print(\"npArray:\",npArray)\n",
        "print(npArray[npArray>3])"
      ],
      "execution_count": null,
      "outputs": []
    },
    {
      "cell_type": "code",
      "metadata": {
        "id": "gIKICDMPzJTZ"
      },
      "source": [
        "#comparision  equal(x,y)  all(x)\n",
        "print(np.equal(x, y))"
      ],
      "execution_count": null,
      "outputs": []
    },
    {
      "cell_type": "code",
      "metadata": {
        "id": "P4lKmL-W1EAf"
      },
      "source": [
        ""
      ],
      "execution_count": null,
      "outputs": []
    }
  ]
}